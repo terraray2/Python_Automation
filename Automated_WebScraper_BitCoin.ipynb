{
  "nbformat": 4,
  "nbformat_minor": 0,
  "metadata": {
    "colab": {
      "provenance": [],
      "authorship_tag": "ABX9TyMYNyVOZMxMCWxG7M8ENxxQ",
      "include_colab_link": true
    },
    "kernelspec": {
      "name": "python3",
      "display_name": "Python 3"
    },
    "language_info": {
      "name": "python"
    }
  },
  "cells": [
    {
      "cell_type": "markdown",
      "metadata": {
        "id": "view-in-github",
        "colab_type": "text"
      },
      "source": [
        "<a href=\"https://colab.research.google.com/github/terraray2/Python_Automation/blob/main/Automated_WebScraper_BitCoin.ipynb\" target=\"_parent\"><img src=\"https://colab.research.google.com/assets/colab-badge.svg\" alt=\"Open In Colab\"/></a>"
      ]
    },
    {
      "cell_type": "code",
      "source": [
        "#automate: CSV should update every hour:\n",
        "from bs4 import BeautifulSoup\n",
        "import requests\n",
        "import pandas as pd\n",
        "from datetime import datetime\n",
        "import time\n",
        "from google.colab import drive\n",
        "\n",
        "# Mount Google Drive\n",
        "drive.mount('/content/drive')\n",
        "CSV_PATH = '/content/drive/My Drive/Data Analyst/bit_coin_scraped.csv'  # Your Google Drive path\n",
        "\n",
        "# create the loop\n",
        "def automated_crypto_pull():\n",
        "    url = 'https://coinmarketcap.com/currencies/bitcoin/'\n",
        "    page = requests.get(url)\n",
        "    soup = BeautifulSoup(page.text, 'html')\n",
        "\n",
        "    # Updated to target the parent span containing 'Bitcoin' and 'price'\n",
        "    crypto_name_element = soup.find('span', {'data-role': 'coin-name'})\n",
        "    crypto_name = crypto_name_element.text.replace(\" price\", \"\") if crypto_name_element else \"N/A\"\n",
        "\n",
        "    # Find the element containing the price using the 'data-test' attribute\n",
        "    crypto_price_element = soup.find('span', {'data-test': 'text-cdp-price-display'})\n",
        "    crypto_price = crypto_price_element.text if crypto_price_element else \"N/A\"\n",
        "\n",
        "    final_price = crypto_price.replace('$', '') if crypto_price != \"N/A\" else \"N/A\"\n",
        "\n",
        "    date_time = datetime.now()\n",
        "\n",
        "    dict = {'Crypto Name': crypto_name,\n",
        "             'Price': final_price,\n",
        "             'TimeStamp': date_time}\n",
        "\n",
        "    df = pd.DataFrame([dict])\n",
        "\n",
        "    # Check if the file exists using Google Drive API (or other Drive methods)\n",
        "    try:\n",
        "        # Attempt to open the file in append mode. This will fail if the file doesn't exist.\n",
        "        with open(CSV_PATH, 'a') as f:\n",
        "            df.to_csv(f, header=False, index=False)\n",
        "    except FileNotFoundError:\n",
        "        # If the file doesn't exist, create it and write the header.\n",
        "    df\n",
        "\n"
      ],
      "metadata": {
        "id": "tnL6yH1nQJu4"
      },
      "execution_count": null,
      "outputs": []
    },
    {
      "cell_type": "code",
      "source": [
        "#while True:\n",
        "    #automated_crypto_pull()\n",
        "    #time.sleep(50000)"
      ],
      "metadata": {
        "id": "upIeG4cte-wa"
      },
      "execution_count": null,
      "outputs": []
    },
    {
      "cell_type": "code",
      "source": [],
      "metadata": {
        "id": "QQnZw-1quTzn"
      },
      "execution_count": null,
      "outputs": []
    }
  ]
}