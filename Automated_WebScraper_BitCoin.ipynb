{
  "nbformat": 4,
  "nbformat_minor": 0,
  "metadata": {
    "colab": {
      "provenance": [],
      "authorship_tag": "ABX9TyOXPoMzPiT6pDC6eI8uGVmk",
      "include_colab_link": true
    },
    "kernelspec": {
      "name": "python3",
      "display_name": "Python 3"
    },
    "language_info": {
      "name": "python"
    }
  },
  "cells": [
    {
      "cell_type": "markdown",
      "metadata": {
        "id": "view-in-github",
        "colab_type": "text"
      },
      "source": [
        "<a href=\"https://colab.research.google.com/github/terraray2/Python_Automation/blob/main/Automated_WebScraper_BitCoin.ipynb\" target=\"_parent\"><img src=\"https://colab.research.google.com/assets/colab-badge.svg\" alt=\"Open In Colab\"/></a>"
      ]
    },
    {
      "cell_type": "code",
      "execution_count": null,
      "metadata": {
        "id": "VNlYrZ54D9jF"
      },
      "outputs": [],
      "source": [
        "# remember my path for later: '/content/drive/My Drive/Data Analyst/bit_coin_scraped.csv'\n"
      ]
    },
    {
      "cell_type": "markdown",
      "source": [
        "**Automatic Scraper**"
      ],
      "metadata": {
        "id": "nLKnvj5ZOFb4"
      }
    },
    {
      "cell_type": "code",
      "source": [
        "\n",
        "# #automate: CSV should update every hour:\n",
        "# from bs4 import BeautifulSoup\n",
        "# import requests\n",
        "# import pandas as pd\n",
        "# from datetime import datetime\n",
        "# import time\n",
        "# from google.colab import drive\n",
        "\n",
        "# # Mount Google Drive\n",
        "# drive.mount('/content/drive')\n",
        "# CSV_PATH = '/content/drive/My Drive/Data Analyst/bit_coin_scraped.csv'  # Your Google Drive path\n",
        "\n",
        "\n",
        "# def automated_crypto_pull():\n",
        "#     url = 'https://coinmarketcap.com/currencies/bitcoin/'\n",
        "#     page = requests.get(url)\n",
        "#     soup = BeautifulSoup(page.text, 'html')\n",
        "\n",
        "#     # Updated to target the parent span containing 'Bitcoin' and 'price'\n",
        "#     crypto_name_element = soup.find('span', {'data-role': 'coin-name'})\n",
        "#     crypto_name = crypto_name_element.text.replace(\" price\", \"\") if crypto_name_element else \"N/A\"\n",
        "\n",
        "#     # Find the element containing the price using the 'data-test' attribute\n",
        "#     crypto_price_element = soup.find('span', {'data-test': 'text-cdp-price-display'})\n",
        "#     crypto_price = crypto_price_element.text if crypto_price_element else \"N/A\"\n",
        "\n",
        "#     final_price = crypto_price.replace('$', '') if crypto_price != \"N/A\" else \"N/A\"\n",
        "\n",
        "#     date_time = datetime.now()\n",
        "\n",
        "#     dict = {'Crypto Name': crypto_name,\n",
        "#              'Price': final_price,\n",
        "#              'TimeStamp': date_time}\n",
        "\n",
        "#     df = pd.DataFrame([dict])\n",
        "\n",
        "#     # Check if the file exists using Google Drive API (or other Drive methods)\n",
        "#     try:\n",
        "#         # Attempt to open the file in append mode. This will fail if the file doesn't exist.\n",
        "#         with open(CSV_PATH, 'a') as f:\n",
        "#             df.to_csv(f, header=False, index=False)\n",
        "#     except FileNotFoundError:\n",
        "#         # If the file doesn't exist, create it and write the header.\n",
        "#         df"
      ],
      "metadata": {
        "id": "cu5e3oyopgV9"
      },
      "execution_count": null,
      "outputs": []
    },
    {
      "cell_type": "code",
      "source": [
        "# This loop is disabled to prevent continuous execution on Git pull.\n",
        "   # Uncomment to enable automatic updates every 10 seconds.\n",
        "   # while True:\n",
        "   #    automated_crypto_pull()\n",
        "   #    time.sleep(10)\n",
        "\n",
        "#while True:\n",
        "    #automated_crypto_pull()\n",
        "    #time.sleep(50000)"
      ],
      "metadata": {
        "id": "-jBVtRh2nsjH"
      },
      "execution_count": null,
      "outputs": []
    }
  ]
}