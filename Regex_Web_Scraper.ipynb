{
  "nbformat": 4,
  "nbformat_minor": 0,
  "metadata": {
    "colab": {
      "provenance": [],
      "authorship_tag": "ABX9TyPdmzh7+w+t7Kfxf3NN22Ov",
      "include_colab_link": true
    },
    "kernelspec": {
      "name": "python3",
      "display_name": "Python 3"
    },
    "language_info": {
      "name": "python"
    }
  },
  "cells": [
    {
      "cell_type": "markdown",
      "metadata": {
        "id": "view-in-github",
        "colab_type": "text"
      },
      "source": [
        "<a href=\"https://colab.research.google.com/github/terraray2/Python_Automation/blob/main/Regex_Web_Scraper.ipynb\" target=\"_parent\"><img src=\"https://colab.research.google.com/assets/colab-badge.svg\" alt=\"Open In Colab\"/></a>"
      ]
    },
    {
      "cell_type": "code",
      "source": [
        "# Import necessary libraries\n",
        "# BeautifulSoup: for parsing HTML content\n",
        "# requests: for fetching web pages\n",
        "# re: for regular expressions (used for text cleaning)\n",
        "# pandas: for data manipulation and analysis\n",
        "# google.colab.drive: to mount Google Drive (if running in Google Colab)\n",
        "\n",
        "from bs4 import BeautifulSoup\n",
        "import requests\n",
        "import re\n",
        "import pandas as pd\n",
        "from google.colab import drive\n",
        "\n",
        "\n",
        "# Define the URL of the webpage containing MLK's \"I Have a Dream\" speech\n",
        "url = 'http://www.analytictech.com/mb021/mlk.htm'\n",
        "\n",
        "# Fetch the webpage content using requests\n",
        "page = requests.get(url)\n",
        "\n",
        "# Parse the HTML content using BeautifulSoup\n",
        "# 'html.parser' is specified as the parser\n",
        "soup = BeautifulSoup(page.text, 'html.parser')\n",
        "\n",
        "\n",
        "# --- Extract the speech text ---\n",
        "# Find all <p> (paragraph) tags within the parsed HTML\n",
        "mlkj_speech = soup.find_all('p')\n",
        "\n",
        "# Extract the text content from each paragraph tag and combine it into a list\n",
        "speech_combined = [p.text for p in mlkj_speech]\n",
        "\n",
        "# Join the list of paragraph texts into a single string\n",
        "string_speech = ' '.join(speech_combined)\n",
        "\n",
        "# --- Clean the speech text ---\n",
        "# Replace newline characters (\\r\\n) with spaces\n",
        "string_speech_cleaned = string_speech.replace('\\r\\n',' ')\n",
        "\n",
        "# Remove punctuation and special characters using regular expressions\n",
        "# This keeps only alphanumeric characters and whitespace\n",
        "speech_no_punt = re.sub(r'[^\\w\\s]', '', string_speech_cleaned)\n",
        "\n",
        "# Convert the text to lowercase for case-insensitive analysis\n",
        "speech_lower = speech_no_punt.lower()\n",
        "\n",
        "# Split the text into individual words using whitespace as the delimiter\n",
        "speech_broken_out = re.split(r'\\s+', speech_lower)\n",
        "\n",
        "\n",
        "# --- Analyze word frequency ---\n",
        "# Create a pandas DataFrame from the list of words\n",
        "# and count the occurrences of each word using `value_counts()`\n",
        "df = pd.DataFrame(speech_broken_out).value_counts()\n",
        "\n",
        "\n",
        "# --- Save the word counts to a CSV file ---\n",
        "# Mount Google Drive (if using Google Colab)\n",
        "drive.mount('/content/drive')\n",
        "\n",
        "# Save the DataFrame to a CSV file in Google Drive\n",
        "# 'header' specifies the column name for the counts\n",
        "# 'index_label' specifies the column name for the words\n",
        "\n",
        "df.to_csv('/content/drive/My Drive/Data Analyst/MLKJ_Speech_Counts.csv', header = ['Counts'], index_label = 'Word')"
      ],
      "metadata": {
        "id": "TiY-43WVgSTw"
      },
      "execution_count": null,
      "outputs": []
    },
    {
      "cell_type": "code",
      "source": [],
      "metadata": {
        "id": "RV9vIx2ihjbC"
      },
      "execution_count": null,
      "outputs": []
    }
  ]
}