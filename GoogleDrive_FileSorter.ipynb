{
  "nbformat": 4,
  "nbformat_minor": 0,
  "metadata": {
    "colab": {
      "provenance": [],
      "authorship_tag": "ABX9TyOU4drUDmvwIZYxG1IFzNlj",
      "include_colab_link": true
    },
    "kernelspec": {
      "name": "python3",
      "display_name": "Python 3"
    },
    "language_info": {
      "name": "python"
    }
  },
  "cells": [
    {
      "cell_type": "markdown",
      "metadata": {
        "id": "view-in-github",
        "colab_type": "text"
      },
      "source": [
        "<a href=\"https://colab.research.google.com/github/terraray2/Python_Automation/blob/main/GoogleDrive_FileSorter.ipynb\" target=\"_parent\"><img src=\"https://colab.research.google.com/assets/colab-badge.svg\" alt=\"Open In Colab\"/></a>"
      ]
    },
    {
      "cell_type": "code",
      "source": [
        "# Mount Google Drive\n",
        "from google.colab import drive\n",
        "drive.mount('/content/drive')\n",
        "\n",
        "# Import necessary libraries\n",
        "import os\n",
        "import shutil\n",
        "\n",
        "# Define the path to FileSorter folder\n",
        "path = \"/content/drive/MyDrive/Data Analyst/FileSorter/\"\n",
        "\n",
        "# Create destination folders if they don't exist\n",
        "os.makedirs(os.path.join(path, \"CSV Files\"), exist_ok=True)\n",
        "os.makedirs(os.path.join(path, \"Text Files\"), exist_ok=True)\n",
        "os.makedirs(os.path.join(path, \"Image Files\"), exist_ok=True)\n",
        "\n",
        "# Get a list of files in the FileSorter folder\n",
        "file_names = os.listdir(path)\n",
        "\n",
        "# Iterate through the files and move them to their respective folders\n",
        "for file in file_names:\n",
        "    if \".csv\" in file and not os.path.exists(os.path.join(path, \"CSV Files\", file)):\n",
        "        shutil.move(os.path.join(path, file), os.path.join(path, \"CSV Files\", file))\n",
        "    elif \".png\" in file and not os.path.exists(os.path.join(path, \"Image Files\", file)):\n",
        "        shutil.move(os.path.join(path, file), os.path.join(path, \"Image Files\", file))\n",
        "    elif \".txt\" in file and not os.path.exists(os.path.join(path, \"Text Files\", file)):\n",
        "        shutil.move(os.path.join(path, file), os.path.join(path, \"Text Files\", file))\n",
        "\n",
        "print(\"Files sorted successfully!\")"
      ],
      "metadata": {
        "colab": {
          "base_uri": "https://localhost:8080/"
        },
        "id": "me4Uxr8ga2FB",
        "outputId": "8159723c-58e8-4986-b7e8-52591d588a05"
      },
      "execution_count": 17,
      "outputs": [
        {
          "output_type": "stream",
          "name": "stdout",
          "text": [
            "Drive already mounted at /content/drive; to attempt to forcibly remount, call drive.mount(\"/content/drive\", force_remount=True).\n",
            "Files sorted successfully!\n"
          ]
        }
      ]
    }
  ]
}